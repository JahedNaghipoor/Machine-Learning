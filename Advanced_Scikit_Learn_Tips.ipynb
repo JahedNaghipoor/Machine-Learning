{
  "nbformat": 4,
  "nbformat_minor": 0,
  "metadata": {
    "colab": {
      "name": "Advanced Scikit-Learn Tips.ipynb",
      "provenance": [],
      "collapsed_sections": [],
      "authorship_tag": "ABX9TyM2vOiPrwvBDgIpw2B3MA1L",
      "include_colab_link": true
    },
    "kernelspec": {
      "name": "python3",
      "display_name": "Python 3"
    }
  },
  "cells": [
    {
      "cell_type": "markdown",
      "metadata": {
        "id": "view-in-github",
        "colab_type": "text"
      },
      "source": [
        "<a href=\"https://colab.research.google.com/github/JahedNaghipoor/Machine-Learning/blob/master/Advanced_Scikit_Learn_Tips.ipynb\" target=\"_parent\"><img src=\"https://colab.research.google.com/assets/colab-badge.svg\" alt=\"Open In Colab\"/></a>"
      ]
    },
    {
      "cell_type": "code",
      "metadata": {
        "id": "OTQxX2vsH9WW",
        "colab_type": "code",
        "colab": {}
      },
      "source": [
        "# Load Python Package\n",
        "import pandas as pd\n",
        "from sklearn.preprocessing import OneHotEncoder, StandardScaler\n",
        "from sklearn.impute import SimpleImputer\n",
        "from sklearn.compose import make_column_transformer, make_column_selector\n",
        "from sklearn.pipeline import make_pipeline\n",
        "from sklearn.tree import DecisionTreeClassifier\n",
        "from sklearn.model_selection import train_test_split, cross_val_score\n",
        "from sklearn.linear_model import LogisticRegression\n",
        "from sklearn.model_selection import GridSearchCV"
      ],
      "execution_count": null,
      "outputs": []
    },
    {
      "cell_type": "code",
      "metadata": {
        "id": "a5UiUS7bIJGF",
        "colab_type": "code",
        "colab": {}
      },
      "source": [
        "# Load data (loading Titanic dataset)\n",
        "data  = pd.read_csv('https://web.stanford.edu/class/archive/cs/cs109/cs109.1166/stuff/titanic.csv')"
      ],
      "execution_count": null,
      "outputs": []
    },
    {
      "cell_type": "code",
      "metadata": {
        "id": "1u6qiR6RIkrC",
        "colab_type": "code",
        "colab": {}
      },
      "source": [
        "# Set X and y\n",
        "X = data.drop('Survived',axis=1)\n",
        "y = data[['Survived']]"
      ],
      "execution_count": null,
      "outputs": []
    },
    {
      "cell_type": "code",
      "metadata": {
        "id": "6a-6cKJyIKeu",
        "colab_type": "code",
        "colab": {}
      },
      "source": [
        "# Make Transformer using clumn_selector\n",
        "preprocessing = make_column_transformer(\n",
        "    (OneHotEncoder(), make_column_selector(dtype_include='object')),\n",
        "    (SimpleImputer(), make_column_selector(dtype_include='int')),\n",
        "    remainder='drop'\n",
        ")"
      ],
      "execution_count": null,
      "outputs": []
    },
    {
      "cell_type": "code",
      "metadata": {
        "id": "piz-lIo-IKnM",
        "colab_type": "code",
        "colab": {
          "base_uri": "https://localhost:8080/",
          "height": 51
        },
        "outputId": "c9dd8f4a-ceb3-4d62-d5d3-3ea3cb540d86"
      },
      "source": [
        "# Fit-Transform data with transformer\n",
        "preprocessing.fit_transform(data)"
      ],
      "execution_count": null,
      "outputs": [
        {
          "output_type": "execute_result",
          "data": {
            "text/plain": [
              "<887x893 sparse matrix of type '<class 'numpy.float64'>'\n",
              "\twith 3499 stored elements in Compressed Sparse Row format>"
            ]
          },
          "metadata": {
            "tags": []
          },
          "execution_count": 49
        }
      ]
    },
    {
      "cell_type": "markdown",
      "metadata": {
        "id": "uEUldYabIytp",
        "colab_type": "text"
      },
      "source": [
        "# Make pipeline\n"
      ]
    },
    {
      "cell_type": "code",
      "metadata": {
        "id": "ES3s9-jJJBVO",
        "colab_type": "code",
        "colab": {}
      },
      "source": [
        "# Split Train, Val and Test \n",
        "X_train, X_test, y_train, y_test = train_test_split(X, y, test_size=0.2)\n",
        "X_train, X_val, y_train, y_val = train_test_split(X_train, y_train, test_size=0.25)"
      ],
      "execution_count": null,
      "outputs": []
    },
    {
      "cell_type": "code",
      "metadata": {
        "id": "16sYp1scKvKO",
        "colab_type": "code",
        "colab": {
          "base_uri": "https://localhost:8080/",
          "height": 68
        },
        "outputId": "d99b5a51-0eb2-42b8-ab58-b19d25ec38f5"
      },
      "source": [
        "# Print dataFrames size\n",
        "print(X_train.shape)\n",
        "print(X_val.shape)\n",
        "print(X_test.shape)"
      ],
      "execution_count": null,
      "outputs": [
        {
          "output_type": "stream",
          "text": [
            "(531, 7)\n",
            "(178, 7)\n",
            "(178, 7)\n"
          ],
          "name": "stdout"
        }
      ]
    },
    {
      "cell_type": "code",
      "metadata": {
        "id": "5q8TZdEcIKkI",
        "colab_type": "code",
        "colab": {}
      },
      "source": [
        "# Set variables\n",
        "ohe = OneHotEncoder(handle_unknown='ignore', sparse=True)\n",
        "imputer = SimpleImputer(add_indicator=True, verbose=1)\n",
        "scaler = StandardScaler()\n",
        "clf = LogisticRegression()"
      ],
      "execution_count": null,
      "outputs": []
    },
    {
      "cell_type": "code",
      "metadata": {
        "id": "-fIIXr5sIKh4",
        "colab_type": "code",
        "colab": {}
      },
      "source": [
        "# Make Transformer\n",
        "preprocessing = make_column_transformer(\n",
        "(make_pipeline(imputer,scaler),['Age','Siblings/Spouses Aboard','Parents/Children Aboard','Fare'])\n",
        ",(ohe, ['Pclass','Sex','Name'])\n",
        ",remainder='passthrough')"
      ],
      "execution_count": null,
      "outputs": []
    },
    {
      "cell_type": "code",
      "metadata": {
        "id": "KqhkuTiUI5wv",
        "colab_type": "code",
        "colab": {}
      },
      "source": [
        "# Make pipeline\n",
        "pipe = make_pipeline(preprocessing, clf)"
      ],
      "execution_count": null,
      "outputs": []
    },
    {
      "cell_type": "code",
      "metadata": {
        "id": "cEZsYxAaI53o",
        "colab_type": "code",
        "colab": {
          "base_uri": "https://localhost:8080/",
          "height": 34
        },
        "outputId": "03ed2e1c-d061-4e46-c0fd-922cd22301ef"
      },
      "source": [
        "# Fit model\n",
        "pipe.fit(X_train, y_train.values.ravel())\n",
        "print(\"Best score : %f\" % pipe.score(X_test, y_test.values.ravel()))"
      ],
      "execution_count": null,
      "outputs": [
        {
          "output_type": "stream",
          "text": [
            "Best score : 0.786517\n"
          ],
          "name": "stdout"
        }
      ]
    },
    {
      "cell_type": "code",
      "metadata": {
        "id": "KI4dxaIKI51M",
        "colab_type": "code",
        "colab": {
          "base_uri": "https://localhost:8080/",
          "height": 204
        },
        "outputId": "34704bb6-e62f-4532-f236-1abd8773f1ce"
      },
      "source": [
        "# Cross-validation\n",
        "print(\"Cross-validation score : %f\" % cross_val_score(pipe, X, y, cv=5, scoring='accuracy').mean())"
      ],
      "execution_count": null,
      "outputs": [
        {
          "output_type": "stream",
          "text": [
            "Cross-validation score : 0.793690\n"
          ],
          "name": "stdout"
        },
        {
          "output_type": "stream",
          "text": [
            "/usr/local/lib/python3.6/dist-packages/sklearn/utils/validation.py:760: DataConversionWarning: A column-vector y was passed when a 1d array was expected. Please change the shape of y to (n_samples, ), for example using ravel().\n",
            "  y = column_or_1d(y, warn=True)\n",
            "/usr/local/lib/python3.6/dist-packages/sklearn/utils/validation.py:760: DataConversionWarning: A column-vector y was passed when a 1d array was expected. Please change the shape of y to (n_samples, ), for example using ravel().\n",
            "  y = column_or_1d(y, warn=True)\n",
            "/usr/local/lib/python3.6/dist-packages/sklearn/utils/validation.py:760: DataConversionWarning: A column-vector y was passed when a 1d array was expected. Please change the shape of y to (n_samples, ), for example using ravel().\n",
            "  y = column_or_1d(y, warn=True)\n",
            "/usr/local/lib/python3.6/dist-packages/sklearn/utils/validation.py:760: DataConversionWarning: A column-vector y was passed when a 1d array was expected. Please change the shape of y to (n_samples, ), for example using ravel().\n",
            "  y = column_or_1d(y, warn=True)\n",
            "/usr/local/lib/python3.6/dist-packages/sklearn/utils/validation.py:760: DataConversionWarning: A column-vector y was passed when a 1d array was expected. Please change the shape of y to (n_samples, ), for example using ravel().\n",
            "  y = column_or_1d(y, warn=True)\n"
          ],
          "name": "stderr"
        }
      ]
    },
    {
      "cell_type": "markdown",
      "metadata": {
        "id": "Fx4NRS-lJ04o",
        "colab_type": "text"
      },
      "source": [
        "#optimal tuning parameters using GridSearch"
      ]
    },
    {
      "cell_type": "code",
      "metadata": {
        "id": "fYIpkCrcJ4hy",
        "colab_type": "code",
        "colab": {}
      },
      "source": [
        "# Set params for Grid Search\n",
        "params = {}\n",
        "params['logisticregression__C'] = [0.001,0.1,0.2,0.3,0.4]\n",
        "params['logisticregression__max_iter'] = [100,200,500]"
      ],
      "execution_count": null,
      "outputs": []
    },
    {
      "cell_type": "code",
      "metadata": {
        "id": "iLe2cCbZJ4qf",
        "colab_type": "code",
        "colab": {
          "base_uri": "https://localhost:8080/",
          "height": 34
        },
        "outputId": "a456d068-24a3-402f-db20-92bb062bf0bf"
      },
      "source": [
        "# Run grid search\n",
        "grid = GridSearchCV(pipe, params, cv=5, scoring='accuracy')\n",
        "grid.fit(X,y.values.ravel())\n",
        "print(\"Best score : %f\" % grid.best_score_)"
      ],
      "execution_count": null,
      "outputs": [
        {
          "output_type": "stream",
          "text": [
            "Best score : 0.794795\n"
          ],
          "name": "stdout"
        }
      ]
    },
    {
      "cell_type": "code",
      "metadata": {
        "id": "LtDL04_9Lkro",
        "colab_type": "code",
        "colab": {
          "base_uri": "https://localhost:8080/",
          "height": 34
        },
        "outputId": "bb7b956b-e9b3-479f-f537-1087fce863f8"
      },
      "source": [
        "print(grid.best_params_)"
      ],
      "execution_count": null,
      "outputs": [
        {
          "output_type": "stream",
          "text": [
            "{'logisticregression__C': 0.1, 'logisticregression__max_iter': 100}\n"
          ],
          "name": "stdout"
        }
      ]
    }
  ]
}